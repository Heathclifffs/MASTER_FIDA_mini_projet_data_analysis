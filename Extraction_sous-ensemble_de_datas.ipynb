{
 "cells": [
  {
   "cell_type": "code",
   "execution_count": 1,
   "id": "2dcd924c-51bd-47be-94c6-dbeb087ab941",
   "metadata": {},
   "outputs": [],
   "source": [
    "# Importations des librairies Python Necessaire\n",
    "\n",
    "import pandas as pd\n",
    "import zipfile"
   ]
  },
  {
   "cell_type": "code",
   "execution_count": 2,
   "id": "4690699f-f597-46d1-84e4-da607d7ea31d",
   "metadata": {},
   "outputs": [
    {
     "name": "stdout",
     "output_type": "stream",
     "text": [
      "Nombre total de lieux : 11958\n"
     ]
    }
   ],
   "source": [
    "''' \n",
    "    Prétraitement et filtres nécessaires à ce fichier, pour ne garder que les colonnes correspondantes \n",
    "        geonameid → ID\n",
    "        name → location_name\n",
    "        latitude → lat\n",
    "        longitude → long\n",
    "        \n",
    "'''\n",
    "# Dézipper le fichier dans un dossier data\n",
    "with zipfile.ZipFile(\"BF.zip\", \"r\") as zip_ref:\n",
    "    zip_ref.extractall(\"data\")\n",
    "\n",
    "# Charger le fichier BF.txt avec tabulation comme séparateur et ne Conserver que les colonnes correspondante en les renomant et finalement sauvegarder le tout \n",
    "df = pd.read_csv(\"data/BF.txt\", sep=\"\\t\", header=None, dtype=str)\n",
    "\n",
    "df = df[[0, 1, 4, 5]]\n",
    "df.columns = [\"ID\", \"location_name\", \"lat\", \"long\"]\n",
    "\n",
    "\n",
    "df.to_csv(\"burkina_location.csv\", index=False)\n",
    "print(\"Nombre total de lieux :\", len(df))\n",
    "\n",
    "\n"
   ]
  }
 ],
 "metadata": {
  "kernelspec": {
   "display_name": "Python 3 (ipykernel)",
   "language": "python",
   "name": "python3"
  },
  "language_info": {
   "codemirror_mode": {
    "name": "ipython",
    "version": 3
   },
   "file_extension": ".py",
   "mimetype": "text/x-python",
   "name": "python",
   "nbconvert_exporter": "python",
   "pygments_lexer": "ipython3",
   "version": "3.12.7"
  }
 },
 "nbformat": 4,
 "nbformat_minor": 5
}
