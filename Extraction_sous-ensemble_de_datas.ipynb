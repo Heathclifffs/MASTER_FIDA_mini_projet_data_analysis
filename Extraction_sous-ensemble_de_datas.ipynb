{
 "cells": [
  {
   "cell_type": "code",
   "execution_count": 1,
   "id": "2dcd924c-51bd-47be-94c6-dbeb087ab941",
   "metadata": {},
   "outputs": [],
   "source": [
    "# Importations des librairies Python Necessaire\n",
    "\n",
    "import pandas as pd\n",
    "import zipfile"
   ]
  },
  {
   "cell_type": "code",
   "execution_count": 2,
   "id": "4690699f-f597-46d1-84e4-da607d7ea31d",
   "metadata": {},
   "outputs": [
    {
     "name": "stdout",
     "output_type": "stream",
     "text": [
      "Nombre total de lieux : 11958\n"
     ]
    }
   ],
   "source": [
    "''' \n",
    "    Prétraitement et filtres nécessaires à ce fichier, pour ne garder que les colonnes correspondantes \n",
    "        geonameid → ID\n",
    "        name → location_name\n",
    "        latitude → lat\n",
    "        longitude → long\n",
    "        \n",
    "'''\n",
    "# Dézipper le fichier dans un dossier data\n",
    "with zipfile.ZipFile(\"BF.zip\", \"r\") as zip_ref:\n",
    "    zip_ref.extractall(\"data\")\n",
    "\n",
    "# Charger le fichier BF.txt avec tabulation comme séparateur et ne Conserver que les colonnes correspondante en les renomant et finalement sauvegarder le tout \n",
    "df = pd.read_csv(\"data/BF.txt\", sep=\"\\t\", header=None, dtype=str)\n",
    "\n",
    "df = df[[0, 1, 4, 5]]\n",
    "df.columns = [\"ID\", \"location_name\", \"lat\", \"long\"]\n",
    "\n",
    "\n",
    "df.to_csv(\"burkina_location.csv\", index=False)\n",
    "print(\"Nombre total de lieux :\", len(df))\n",
    "\n",
    "\n"
   ]
  },
  {
   "cell_type": "code",
   "execution_count": 3,
   "id": "a0cc669d-d115-4a5a-89a5-5c6edfacc6c0",
   "metadata": {},
   "outputs": [
    {
     "name": "stdout",
     "output_type": "stream",
     "text": [
      "Nombre de lieux contenant 'gounghin' :   10\n",
      "             ID                  location_name       lat      long\n",
      "153     2353306                       Gounghin  12.06677  -1.42134\n",
      "7269    2360473                       Gounghin  12.62488  -1.36398\n",
      "10260   2570204                       Gounghin  12.31436    -1.379\n",
      "10746  10342749                       Gounghin  12.06667     -0.15\n",
      "10759  10629032             BICIAB // Gounghin  12.35921  -1.54273\n",
      "10818  11257296            Gounghin Department  12.06671  -0.15484\n",
      "10845  11900526                  Gounghin Nord   12.3612  -1.55055\n",
      "10846  11900528  Zone Industrielle de Gounghin  12.36631  -1.54137\n",
      "10852  11900619                   Gounghin Sud  12.35298  -1.54342\n",
      "10866  11900680                       Gounghin  12.35895  -1.54442\n"
     ]
    }
   ],
   "source": [
    "'''\n",
    "    Extraction 1\n",
    "    extraire les données contenant le nom 'gounghin', enregistrez-le sous le fichier gounghin.csv\n",
    "'''\n",
    "\n",
    "gounghin_df = df[df['location_name'].str.contains(\"gounghin\", case=False, na=False)]\n",
    "gounghin_df.to_csv(\"gounghin.csv\", index=False)\n",
    "\n",
    "print(\"Nombre de lieux contenant 'gounghin' :  \", len(gounghin_df))\n",
    "print(gounghin_df)"
   ]
  },
  {
   "cell_type": "code",
   "execution_count": 4,
   "id": "1fde3c9e-eea2-4c6f-bb15-534755e26ca5",
   "metadata": {},
   "outputs": [
    {
     "name": "stdout",
     "output_type": "stream",
     "text": [
      "Nom do lieux dont les noms les premières lettres  sont compris entre 'A' et 'P' (ordre alphabétique) :   8306\n",
      "             ID location_name       lat      long\n",
      "10648   6913771        Abanda  15.06808  -0.59805\n",
      "10031   2363251        Abanga  13.32429   0.31151\n",
      "11093  11980339        Abassi  12.27728  -1.13662\n",
      "10601   6874881         Abaye   13.4408   -3.9019\n",
      "10029   2363249          Abra   13.0914  -1.34752\n",
      "...         ...           ...       ...       ...\n",
      "10111   2570015       Pézinga  12.05298  -1.47002\n",
      "3478    2356655            Pê      11.3  -3.53333\n",
      "3279    2356453            Pô      12.3  -2.61667\n",
      "3280    2356454            Pô  11.16972    -1.145\n",
      "10394   6296406    Pô Airport  11.17854  -1.14498\n",
      "\n",
      "[8306 rows x 4 columns]\n"
     ]
    }
   ],
   "source": [
    "'''\n",
    "    Extraction 2\n",
    "    extraire la sous-partie de la base de données (fichier burkina_location.csv), dont les noms les premières lettres des noms de lieux sont compris entre 'A' et 'P' (ordre alphabétique)\n",
    "'''\n",
    "# fix 1.0.1 : ignorer la casse pour un meilleur resultat\n",
    "A_to_P_df = df[df['location_name'].str[0].str.upper().between('A', 'P')]\n",
    "\n",
    "#fix 1.0.1 ajouter key=lambda x: x.str.upper() qui permet d’ignorer la casse pour un vrai ordre alphabétique global\n",
    "A_to_P_df = A_to_P_df.sort_values(by='location_name', key=lambda x: x.str.upper())\n",
    "print(\"Nom do lieux dont les noms les premières lettres  sont compris entre 'A' et 'P' (ordre alphabétique) :  \", len(A_to_P_df))\n",
    "print (A_to_P_df)"
   ]
  }
 ],
 "metadata": {
  "kernelspec": {
   "display_name": "Python 3 (ipykernel)",
   "language": "python",
   "name": "python3"
  },
  "language_info": {
   "codemirror_mode": {
    "name": "ipython",
    "version": 3
   },
   "file_extension": ".py",
   "mimetype": "text/x-python",
   "name": "python",
   "nbconvert_exporter": "python",
   "pygments_lexer": "ipython3",
   "version": "3.12.7"
  }
 },
 "nbformat": 4,
 "nbformat_minor": 5
}
